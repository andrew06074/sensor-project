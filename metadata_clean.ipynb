{
 "cells": [
  {
   "cell_type": "code",
   "execution_count": 31,
   "metadata": {},
   "outputs": [],
   "source": [
    "import pandas as pd\n",
    "import numpy as np\n",
    "\n",
    "from matplotlib import pyplot as plt\n",
    "\n",
    "## Import metadata and clean ()\n",
    "metadata = np.loadtxt('HT_Sensor_metadata.dat', skiprows=1, dtype=str)\n",
    "metadata_aux = np.array( metadata[:,[0,3,4]], dtype=float )"
   ]
  },
  {
   "cell_type": "code",
   "execution_count": 32,
   "metadata": {},
   "outputs": [],
   "source": [
    "# Turn metatdata into a DataFrame for pandas\n",
    "df = pd.DataFrame(data=metadata)\n",
    "\n",
    "# Re-name columns\n",
    "df.columns = ['Id','Date','Description','Duration_of_experiment','Duration_of_indcution']\n",
    "\n",
    "# Change values in **Description column*** for project scope\n",
    "df['Description'] = df['Description'].replace(['banana'],'Event')\n",
    "df['Description'] = df['Description'].replace(['wine'],'Non_Event')\n",
    "df['Description'] = df['Description'].replace(['background'],'Null_Event')"
   ]
  },
  {
   "cell_type": "code",
   "execution_count": 49,
   "metadata": {},
   "outputs": [
    {
     "data": {
      "text/html": [
       "<div>\n",
       "<style scoped>\n",
       "    .dataframe tbody tr th:only-of-type {\n",
       "        vertical-align: middle;\n",
       "    }\n",
       "\n",
       "    .dataframe tbody tr th {\n",
       "        vertical-align: top;\n",
       "    }\n",
       "\n",
       "    .dataframe thead th {\n",
       "        text-align: right;\n",
       "    }\n",
       "</style>\n",
       "<table border=\"1\" class=\"dataframe\">\n",
       "  <thead>\n",
       "    <tr style=\"text-align: right;\">\n",
       "      <th></th>\n",
       "      <th>Id</th>\n",
       "      <th>Date</th>\n",
       "      <th>Description</th>\n",
       "      <th>Duration_of_experiment</th>\n",
       "      <th>Duration_of_indcution</th>\n",
       "    </tr>\n",
       "  </thead>\n",
       "  <tbody>\n",
       "    <tr>\n",
       "      <td>0</td>\n",
       "      <td>0</td>\n",
       "      <td>07-04-15</td>\n",
       "      <td>Event</td>\n",
       "      <td>13.49</td>\n",
       "      <td>1.64</td>\n",
       "    </tr>\n",
       "    <tr>\n",
       "      <td>1</td>\n",
       "      <td>1</td>\n",
       "      <td>07-05-15</td>\n",
       "      <td>Non_Event</td>\n",
       "      <td>19.61</td>\n",
       "      <td>0.54</td>\n",
       "    </tr>\n",
       "    <tr>\n",
       "      <td>2</td>\n",
       "      <td>2</td>\n",
       "      <td>07-06-15</td>\n",
       "      <td>Non_Event</td>\n",
       "      <td>19.99</td>\n",
       "      <td>0.66</td>\n",
       "    </tr>\n",
       "    <tr>\n",
       "      <td>3</td>\n",
       "      <td>3</td>\n",
       "      <td>07-09-15</td>\n",
       "      <td>Event</td>\n",
       "      <td>6.49</td>\n",
       "      <td>0.72</td>\n",
       "    </tr>\n",
       "    <tr>\n",
       "      <td>4</td>\n",
       "      <td>4</td>\n",
       "      <td>07-09-15</td>\n",
       "      <td>Non_Event</td>\n",
       "      <td>20.07</td>\n",
       "      <td>0.53</td>\n",
       "    </tr>\n",
       "    <tr>\n",
       "      <td>...</td>\n",
       "      <td>...</td>\n",
       "      <td>...</td>\n",
       "      <td>...</td>\n",
       "      <td>...</td>\n",
       "      <td>...</td>\n",
       "    </tr>\n",
       "    <tr>\n",
       "      <td>95</td>\n",
       "      <td>95</td>\n",
       "      <td>09-11-15</td>\n",
       "      <td>Null_Event</td>\n",
       "      <td>12.55</td>\n",
       "      <td>0.57</td>\n",
       "    </tr>\n",
       "    <tr>\n",
       "      <td>96</td>\n",
       "      <td>96</td>\n",
       "      <td>09-14-15</td>\n",
       "      <td>Null_Event</td>\n",
       "      <td>13.37</td>\n",
       "      <td>0.94</td>\n",
       "    </tr>\n",
       "    <tr>\n",
       "      <td>97</td>\n",
       "      <td>97</td>\n",
       "      <td>09-15-15</td>\n",
       "      <td>Null_Event</td>\n",
       "      <td>14.25</td>\n",
       "      <td>0.72</td>\n",
       "    </tr>\n",
       "    <tr>\n",
       "      <td>98</td>\n",
       "      <td>98</td>\n",
       "      <td>09-16-15</td>\n",
       "      <td>Null_Event</td>\n",
       "      <td>14.41</td>\n",
       "      <td>0.71</td>\n",
       "    </tr>\n",
       "    <tr>\n",
       "      <td>99</td>\n",
       "      <td>99</td>\n",
       "      <td>09-17-15</td>\n",
       "      <td>Null_Event</td>\n",
       "      <td>11.93</td>\n",
       "      <td>0.68</td>\n",
       "    </tr>\n",
       "  </tbody>\n",
       "</table>\n",
       "<p>100 rows × 5 columns</p>\n",
       "</div>"
      ],
      "text/plain": [
       "    Id      Date Description Duration_of_experiment Duration_of_indcution\n",
       "0    0  07-04-15       Event                  13.49                  1.64\n",
       "1    1  07-05-15   Non_Event                  19.61                  0.54\n",
       "2    2  07-06-15   Non_Event                  19.99                  0.66\n",
       "3    3  07-09-15       Event                   6.49                  0.72\n",
       "4    4  07-09-15   Non_Event                  20.07                  0.53\n",
       "..  ..       ...         ...                    ...                   ...\n",
       "95  95  09-11-15  Null_Event                  12.55                  0.57\n",
       "96  96  09-14-15  Null_Event                  13.37                  0.94\n",
       "97  97  09-15-15  Null_Event                  14.25                  0.72\n",
       "98  98  09-16-15  Null_Event                  14.41                  0.71\n",
       "99  99  09-17-15  Null_Event                  11.93                  0.68\n",
       "\n",
       "[100 rows x 5 columns]"
      ]
     },
     "execution_count": 49,
     "metadata": {},
     "output_type": "execute_result"
    }
   ],
   "source": [
    "# Export to csv for streamlit\n",
    "df.to_csv('metadata.csv')"
   ]
  },
  {
   "cell_type": "code",
   "execution_count": 48,
   "metadata": {},
   "outputs": [
    {
     "data": {
      "image/png": "[encoded data removed]",
      "text/plain": [
       "<Figure size 432x288 with 1 Axes>"
      ]
     },
     "metadata": {
      "needs_background": "light"
     },
     "output_type": "display_data"
    }
   ],
   "source": [
    "fig = df.groupby(df.Description).count().plot(kind='bar')"
   ]
  }
 ],
 "metadata": {
  "kernelspec": {
   "display_name": "Python 3",
   "language": "python",
   "name": "python3"
  },
  "language_info": {
   "codemirror_mode": {
    "name": "ipython",
    "version": 3
   },
   "file_extension": ".py",
   "mimetype": "text/x-python",
   "name": "python",
   "nbconvert_exporter": "python",
   "pygments_lexer": "ipython3",
   "version": "3.7.4"
  }
 },
 "nbformat": 4,
 "nbformat_minor": 2
}
